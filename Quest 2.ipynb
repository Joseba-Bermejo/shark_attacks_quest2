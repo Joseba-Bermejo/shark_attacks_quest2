{
 "cells": [
  {
   "cell_type": "code",
   "execution_count": 4,
   "id": "cc1b4e89-fbc4-400e-8eda-e5eddae50edc",
   "metadata": {},
   "outputs": [],
   "source": [
    "import pandas as pd\n",
    "df = pd.read_excel('/Users/josebabermejo/Ironhack/5. Quests/GSAF5 (1).xls')"
   ]
  },
  {
   "cell_type": "code",
   "execution_count": 6,
   "id": "a297325f-735d-4845-9973-9ca14952d28a",
   "metadata": {},
   "outputs": [
    {
     "name": "stdout",
     "output_type": "stream",
     "text": [
      "Requirement already satisfied: openpyxl in /opt/anaconda3/lib/python3.12/site-packages (3.1.5)\n",
      "Requirement already satisfied: et-xmlfile in /opt/anaconda3/lib/python3.12/site-packages (from openpyxl) (1.1.0)\n",
      "Requirement already satisfied: xlrd in /opt/anaconda3/lib/python3.12/site-packages (2.0.1)\n"
     ]
    }
   ],
   "source": [
    "!pip install openpyxl\n",
    "!pip install xlrd"
   ]
  },
  {
   "cell_type": "markdown",
   "id": "6eea32ed-66f4-407e-9897-98cfeb640923",
   "metadata": {},
   "source": [
    "## Quest 2\n",
    "You will initially examine the Shark Attack dataset, understanding its structure and formulating a hypothesis or several hypotheses about the data. For example, you might hypothesize that shark attacks are more common in certain geographical locations, or among individuals engaging in particular activities.\n",
    "\n",
    "If you want to go further, you could even define a Business Case, such as “As a company that sells diving trips, I want to suggest destination for shark spotting”, or “ As a company that sells surf experiences or surf boards, I want to know where to set up a new shop and avoid shark attacks”.\n",
    "\n",
    "Throughout the project, you'll utilize Python programming and the pandas library to implement at least five data cleaning techniques to handle issues such as missing values, duplicates, and formatting inconsistencies. Once the dataset is cleaned, you'll use basic exploratory data analysis to validate your initial hypotheses and extract meaningful insights.\n"
   ]
  },
  {
   "cell_type": "markdown",
   "id": "ba7faee1-6d1f-4847-a544-44ff367bcb69",
   "metadata": {},
   "source": [
    "## Business Case\n",
    "\n",
    "As a company that offers ocean-based adventure experiences (e.g., snorkeling, diving, and eco-tourism), we want to assess and minimize the risk of fatal shark encounters by understanding when and under what circumstances these incidents are most likely to occur."
   ]
  },
  {
   "cell_type": "markdown",
   "id": "560bcb58-a2fc-45a9-ae43-2d82724ee86c",
   "metadata": {},
   "source": [
    "### Hypothesis: \n",
    "“In the last 25 years shark attacks are more likely to result in fatalities when they are unprovoked\" [Date, Fatal Y/N, Type]\n",
    "\n",
    "\"Australia is the area with more fatal shark attacks in victims doing underwater activities\" [Country, Activity, Fatal Y/N]\n",
    "\n",
    "\"Males are more likely to be attacked if they are 25 years old or younger\" [age, gender]"
   ]
  },
  {
   "cell_type": "code",
   "execution_count": 202,
   "id": "a94e0ad5-c149-453e-8beb-ed1fe3c29cf9",
   "metadata": {},
   "outputs": [
    {
     "data": {
      "text/html": [
       "<div>\n",
       "<style scoped>\n",
       "    .dataframe tbody tr th:only-of-type {\n",
       "        vertical-align: middle;\n",
       "    }\n",
       "\n",
       "    .dataframe tbody tr th {\n",
       "        vertical-align: top;\n",
       "    }\n",
       "\n",
       "    .dataframe thead th {\n",
       "        text-align: right;\n",
       "    }\n",
       "</style>\n",
       "<table border=\"1\" class=\"dataframe\">\n",
       "  <thead>\n",
       "    <tr style=\"text-align: right;\">\n",
       "      <th></th>\n",
       "      <th>Date</th>\n",
       "      <th>Year</th>\n",
       "      <th>Type</th>\n",
       "      <th>Country</th>\n",
       "      <th>State</th>\n",
       "      <th>Location</th>\n",
       "      <th>Activity</th>\n",
       "      <th>Name</th>\n",
       "      <th>Sex</th>\n",
       "      <th>Age</th>\n",
       "      <th>...</th>\n",
       "      <th>Species</th>\n",
       "      <th>Source</th>\n",
       "      <th>pdf</th>\n",
       "      <th>href formula</th>\n",
       "      <th>href</th>\n",
       "      <th>Case Number</th>\n",
       "      <th>Case Number.1</th>\n",
       "      <th>original order</th>\n",
       "      <th>Unnamed: 21</th>\n",
       "      <th>Unnamed: 22</th>\n",
       "    </tr>\n",
       "  </thead>\n",
       "  <tbody>\n",
       "    <tr>\n",
       "      <th>0</th>\n",
       "      <td>2025-03-26 00:00:00</td>\n",
       "      <td>2025.0</td>\n",
       "      <td>Unprovoked</td>\n",
       "      <td>Australia</td>\n",
       "      <td>WA</td>\n",
       "      <td>Sandtrax Port Beach North Fremantle Perth</td>\n",
       "      <td>Swimming</td>\n",
       "      <td>Unknown Male</td>\n",
       "      <td>M</td>\n",
       "      <td>30+</td>\n",
       "      <td>...</td>\n",
       "      <td>1.5m Tiger shark</td>\n",
       "      <td>Kevin McMurray Trackingsharks.com: www.surfer....</td>\n",
       "      <td>NaN</td>\n",
       "      <td>NaN</td>\n",
       "      <td>NaN</td>\n",
       "      <td>NaN</td>\n",
       "      <td>NaN</td>\n",
       "      <td>NaN</td>\n",
       "      <td>NaN</td>\n",
       "      <td>NaN</td>\n",
       "    </tr>\n",
       "    <tr>\n",
       "      <th>1</th>\n",
       "      <td>2025-03-10 00:00:00</td>\n",
       "      <td>2025.0</td>\n",
       "      <td>Unprovoked</td>\n",
       "      <td>Australia</td>\n",
       "      <td>WA</td>\n",
       "      <td>Duke of Orleans Bay</td>\n",
       "      <td>Surfing</td>\n",
       "      <td>Steven Jeffrey Payne</td>\n",
       "      <td>M</td>\n",
       "      <td>37</td>\n",
       "      <td>...</td>\n",
       "      <td>Great White Shark</td>\n",
       "      <td>Bob Myatt</td>\n",
       "      <td>NaN</td>\n",
       "      <td>NaN</td>\n",
       "      <td>NaN</td>\n",
       "      <td>NaN</td>\n",
       "      <td>NaN</td>\n",
       "      <td>NaN</td>\n",
       "      <td>NaN</td>\n",
       "      <td>NaN</td>\n",
       "    </tr>\n",
       "    <tr>\n",
       "      <th>2</th>\n",
       "      <td>2025-03-07 00:00:00</td>\n",
       "      <td>2025.0</td>\n",
       "      <td>Unprovoked</td>\n",
       "      <td>Australia</td>\n",
       "      <td>NSW</td>\n",
       "      <td>Gunyah beach Bundeena Port Hacking</td>\n",
       "      <td>Swimming</td>\n",
       "      <td>Mangyong Zhang</td>\n",
       "      <td>F</td>\n",
       "      <td>56</td>\n",
       "      <td>...</td>\n",
       "      <td>Bull shark</td>\n",
       "      <td>Bob Myatt</td>\n",
       "      <td>NaN</td>\n",
       "      <td>NaN</td>\n",
       "      <td>NaN</td>\n",
       "      <td>NaN</td>\n",
       "      <td>NaN</td>\n",
       "      <td>NaN</td>\n",
       "      <td>NaN</td>\n",
       "      <td>NaN</td>\n",
       "    </tr>\n",
       "    <tr>\n",
       "      <th>3</th>\n",
       "      <td>2025-02-27 00:00:00</td>\n",
       "      <td>2025.0</td>\n",
       "      <td>Unprovoked</td>\n",
       "      <td>Australia</td>\n",
       "      <td>Victoria</td>\n",
       "      <td>Nuns Beach near Portland</td>\n",
       "      <td>Swimming</td>\n",
       "      <td>Robbie Houlihan</td>\n",
       "      <td>M</td>\n",
       "      <td>40+</td>\n",
       "      <td>...</td>\n",
       "      <td>Not stated</td>\n",
       "      <td>Kevin McMurray Trackingsharks.com</td>\n",
       "      <td>NaN</td>\n",
       "      <td>NaN</td>\n",
       "      <td>NaN</td>\n",
       "      <td>NaN</td>\n",
       "      <td>NaN</td>\n",
       "      <td>NaN</td>\n",
       "      <td>NaN</td>\n",
       "      <td>NaN</td>\n",
       "    </tr>\n",
       "    <tr>\n",
       "      <th>4</th>\n",
       "      <td>27-Feb-25</td>\n",
       "      <td>2025.0</td>\n",
       "      <td>Questionable</td>\n",
       "      <td>Philippines</td>\n",
       "      <td>Batangas Resort</td>\n",
       "      <td>Verde Island</td>\n",
       "      <td>SCUBA Diving</td>\n",
       "      <td>Illia Peregudin</td>\n",
       "      <td>M</td>\n",
       "      <td>29</td>\n",
       "      <td>...</td>\n",
       "      <td>Not stated</td>\n",
       "      <td>Stephen Parkhill   Glen Folkard</td>\n",
       "      <td>NaN</td>\n",
       "      <td>NaN</td>\n",
       "      <td>NaN</td>\n",
       "      <td>NaN</td>\n",
       "      <td>NaN</td>\n",
       "      <td>NaN</td>\n",
       "      <td>NaN</td>\n",
       "      <td>NaN</td>\n",
       "    </tr>\n",
       "    <tr>\n",
       "      <th>...</th>\n",
       "      <td>...</td>\n",
       "      <td>...</td>\n",
       "      <td>...</td>\n",
       "      <td>...</td>\n",
       "      <td>...</td>\n",
       "      <td>...</td>\n",
       "      <td>...</td>\n",
       "      <td>...</td>\n",
       "      <td>...</td>\n",
       "      <td>...</td>\n",
       "      <td>...</td>\n",
       "      <td>...</td>\n",
       "      <td>...</td>\n",
       "      <td>...</td>\n",
       "      <td>...</td>\n",
       "      <td>...</td>\n",
       "      <td>...</td>\n",
       "      <td>...</td>\n",
       "      <td>...</td>\n",
       "      <td>...</td>\n",
       "      <td>...</td>\n",
       "    </tr>\n",
       "    <tr>\n",
       "      <th>7004</th>\n",
       "      <td>Before 1903</td>\n",
       "      <td>0.0</td>\n",
       "      <td>Unprovoked</td>\n",
       "      <td>AUSTRALIA</td>\n",
       "      <td>Western Australia</td>\n",
       "      <td>Roebuck Bay</td>\n",
       "      <td>Diving</td>\n",
       "      <td>male</td>\n",
       "      <td>M</td>\n",
       "      <td>NaN</td>\n",
       "      <td>...</td>\n",
       "      <td>NaN</td>\n",
       "      <td>H. Taunton; N. Bartlett,  p. 234</td>\n",
       "      <td>ND-0005-RoebuckBay.pdf</td>\n",
       "      <td>http://sharkattackfile.net/spreadsheets/pdf_di...</td>\n",
       "      <td>http://sharkattackfile.net/spreadsheets/pdf_di...</td>\n",
       "      <td>ND.0005</td>\n",
       "      <td>ND.0005</td>\n",
       "      <td>6.0</td>\n",
       "      <td>NaN</td>\n",
       "      <td>NaN</td>\n",
       "    </tr>\n",
       "    <tr>\n",
       "      <th>7005</th>\n",
       "      <td>Before 1903</td>\n",
       "      <td>0.0</td>\n",
       "      <td>Unprovoked</td>\n",
       "      <td>AUSTRALIA</td>\n",
       "      <td>Western Australia</td>\n",
       "      <td>NaN</td>\n",
       "      <td>Pearl diving</td>\n",
       "      <td>Ahmun</td>\n",
       "      <td>M</td>\n",
       "      <td>NaN</td>\n",
       "      <td>...</td>\n",
       "      <td>NaN</td>\n",
       "      <td>H. Taunton; N. Bartlett,  pp. 233-234</td>\n",
       "      <td>ND-0004-Ahmun.pdf</td>\n",
       "      <td>http://sharkattackfile.net/spreadsheets/pdf_di...</td>\n",
       "      <td>http://sharkattackfile.net/spreadsheets/pdf_di...</td>\n",
       "      <td>ND.0004</td>\n",
       "      <td>ND.0004</td>\n",
       "      <td>5.0</td>\n",
       "      <td>NaN</td>\n",
       "      <td>NaN</td>\n",
       "    </tr>\n",
       "    <tr>\n",
       "      <th>7006</th>\n",
       "      <td>1900-1905</td>\n",
       "      <td>0.0</td>\n",
       "      <td>Unprovoked</td>\n",
       "      <td>USA</td>\n",
       "      <td>North Carolina</td>\n",
       "      <td>Ocracoke Inlet</td>\n",
       "      <td>Swimming</td>\n",
       "      <td>Coast Guard personnel</td>\n",
       "      <td>M</td>\n",
       "      <td>NaN</td>\n",
       "      <td>...</td>\n",
       "      <td>NaN</td>\n",
       "      <td>F. Schwartz, p.23; C. Creswell, GSAF</td>\n",
       "      <td>ND-0003-Ocracoke_1900-1905.pdf</td>\n",
       "      <td>http://sharkattackfile.net/spreadsheets/pdf_di...</td>\n",
       "      <td>http://sharkattackfile.net/spreadsheets/pdf_di...</td>\n",
       "      <td>ND.0003</td>\n",
       "      <td>ND.0003</td>\n",
       "      <td>4.0</td>\n",
       "      <td>NaN</td>\n",
       "      <td>NaN</td>\n",
       "    </tr>\n",
       "    <tr>\n",
       "      <th>7007</th>\n",
       "      <td>1883-1889</td>\n",
       "      <td>0.0</td>\n",
       "      <td>Unprovoked</td>\n",
       "      <td>PANAMA</td>\n",
       "      <td>NaN</td>\n",
       "      <td>Panama Bay 8ºN, 79ºW</td>\n",
       "      <td>NaN</td>\n",
       "      <td>Jules Patterson</td>\n",
       "      <td>M</td>\n",
       "      <td>NaN</td>\n",
       "      <td>...</td>\n",
       "      <td>NaN</td>\n",
       "      <td>The Sun, 10/20/1938</td>\n",
       "      <td>ND-0002-JulesPatterson.pdf</td>\n",
       "      <td>http://sharkattackfile.net/spreadsheets/pdf_di...</td>\n",
       "      <td>http://sharkattackfile.net/spreadsheets/pdf_di...</td>\n",
       "      <td>ND.0002</td>\n",
       "      <td>ND.0002</td>\n",
       "      <td>3.0</td>\n",
       "      <td>NaN</td>\n",
       "      <td>NaN</td>\n",
       "    </tr>\n",
       "    <tr>\n",
       "      <th>7008</th>\n",
       "      <td>1845-1853</td>\n",
       "      <td>0.0</td>\n",
       "      <td>Unprovoked</td>\n",
       "      <td>CEYLON (SRI LANKA)</td>\n",
       "      <td>Eastern Province</td>\n",
       "      <td>Below the English fort, Trincomalee</td>\n",
       "      <td>Swimming</td>\n",
       "      <td>male</td>\n",
       "      <td>M</td>\n",
       "      <td>15</td>\n",
       "      <td>...</td>\n",
       "      <td>NaN</td>\n",
       "      <td>S.W. Baker</td>\n",
       "      <td>ND-0001-Ceylon.pdf</td>\n",
       "      <td>http://sharkattackfile.net/spreadsheets/pdf_di...</td>\n",
       "      <td>http://sharkattackfile.net/spreadsheets/pdf_di...</td>\n",
       "      <td>ND.0001</td>\n",
       "      <td>ND.0001</td>\n",
       "      <td>2.0</td>\n",
       "      <td>NaN</td>\n",
       "      <td>NaN</td>\n",
       "    </tr>\n",
       "  </tbody>\n",
       "</table>\n",
       "<p>7009 rows × 23 columns</p>\n",
       "</div>"
      ],
      "text/plain": [
       "                     Date    Year          Type             Country  \\\n",
       "0     2025-03-26 00:00:00  2025.0    Unprovoked           Australia   \n",
       "1     2025-03-10 00:00:00  2025.0    Unprovoked           Australia   \n",
       "2     2025-03-07 00:00:00  2025.0    Unprovoked           Australia   \n",
       "3     2025-02-27 00:00:00  2025.0    Unprovoked           Australia   \n",
       "4               27-Feb-25  2025.0  Questionable         Philippines   \n",
       "...                   ...     ...           ...                 ...   \n",
       "7004          Before 1903     0.0    Unprovoked           AUSTRALIA   \n",
       "7005          Before 1903     0.0    Unprovoked           AUSTRALIA   \n",
       "7006            1900-1905     0.0    Unprovoked                 USA   \n",
       "7007            1883-1889     0.0    Unprovoked              PANAMA   \n",
       "7008            1845-1853     0.0    Unprovoked  CEYLON (SRI LANKA)   \n",
       "\n",
       "                  State                                   Location  \\\n",
       "0                    WA  Sandtrax Port Beach North Fremantle Perth   \n",
       "1                    WA                        Duke of Orleans Bay   \n",
       "2                   NSW         Gunyah beach Bundeena Port Hacking   \n",
       "3              Victoria                   Nuns Beach near Portland   \n",
       "4       Batangas Resort                               Verde Island   \n",
       "...                 ...                                        ...   \n",
       "7004  Western Australia                                Roebuck Bay   \n",
       "7005  Western Australia                                        NaN   \n",
       "7006     North Carolina                             Ocracoke Inlet   \n",
       "7007                NaN                       Panama Bay 8ºN, 79ºW   \n",
       "7008   Eastern Province        Below the English fort, Trincomalee   \n",
       "\n",
       "          Activity                   Name Sex  Age  ...           Species   \\\n",
       "0         Swimming           Unknown Male   M  30+  ...   1.5m Tiger shark   \n",
       "1          Surfing   Steven Jeffrey Payne   M   37  ...  Great White Shark   \n",
       "2         Swimming         Mangyong Zhang  F    56  ...         Bull shark   \n",
       "3         Swimming        Robbie Houlihan   M  40+  ...         Not stated   \n",
       "4     SCUBA Diving        Illia Peregudin   M   29  ...        Not stated    \n",
       "...            ...                    ...  ..  ...  ...                ...   \n",
       "7004        Diving                   male   M  NaN  ...                NaN   \n",
       "7005  Pearl diving                  Ahmun   M  NaN  ...                NaN   \n",
       "7006      Swimming  Coast Guard personnel   M  NaN  ...                NaN   \n",
       "7007           NaN        Jules Patterson   M  NaN  ...                NaN   \n",
       "7008      Swimming                   male   M   15  ...                NaN   \n",
       "\n",
       "                                                 Source  \\\n",
       "0     Kevin McMurray Trackingsharks.com: www.surfer....   \n",
       "1                                             Bob Myatt   \n",
       "2                                             Bob Myatt   \n",
       "3                     Kevin McMurray Trackingsharks.com   \n",
       "4                       Stephen Parkhill   Glen Folkard   \n",
       "...                                                 ...   \n",
       "7004                   H. Taunton; N. Bartlett,  p. 234   \n",
       "7005              H. Taunton; N. Bartlett,  pp. 233-234   \n",
       "7006               F. Schwartz, p.23; C. Creswell, GSAF   \n",
       "7007                                The Sun, 10/20/1938   \n",
       "7008                                         S.W. Baker   \n",
       "\n",
       "                                 pdf  \\\n",
       "0                                NaN   \n",
       "1                                NaN   \n",
       "2                                NaN   \n",
       "3                                NaN   \n",
       "4                                NaN   \n",
       "...                              ...   \n",
       "7004          ND-0005-RoebuckBay.pdf   \n",
       "7005               ND-0004-Ahmun.pdf   \n",
       "7006  ND-0003-Ocracoke_1900-1905.pdf   \n",
       "7007      ND-0002-JulesPatterson.pdf   \n",
       "7008              ND-0001-Ceylon.pdf   \n",
       "\n",
       "                                           href formula  \\\n",
       "0                                                   NaN   \n",
       "1                                                   NaN   \n",
       "2                                                   NaN   \n",
       "3                                                   NaN   \n",
       "4                                                   NaN   \n",
       "...                                                 ...   \n",
       "7004  http://sharkattackfile.net/spreadsheets/pdf_di...   \n",
       "7005  http://sharkattackfile.net/spreadsheets/pdf_di...   \n",
       "7006  http://sharkattackfile.net/spreadsheets/pdf_di...   \n",
       "7007  http://sharkattackfile.net/spreadsheets/pdf_di...   \n",
       "7008  http://sharkattackfile.net/spreadsheets/pdf_di...   \n",
       "\n",
       "                                                   href Case Number  \\\n",
       "0                                                   NaN         NaN   \n",
       "1                                                   NaN         NaN   \n",
       "2                                                   NaN         NaN   \n",
       "3                                                   NaN         NaN   \n",
       "4                                                   NaN         NaN   \n",
       "...                                                 ...         ...   \n",
       "7004  http://sharkattackfile.net/spreadsheets/pdf_di...     ND.0005   \n",
       "7005  http://sharkattackfile.net/spreadsheets/pdf_di...     ND.0004   \n",
       "7006  http://sharkattackfile.net/spreadsheets/pdf_di...     ND.0003   \n",
       "7007  http://sharkattackfile.net/spreadsheets/pdf_di...     ND.0002   \n",
       "7008  http://sharkattackfile.net/spreadsheets/pdf_di...     ND.0001   \n",
       "\n",
       "     Case Number.1 original order Unnamed: 21 Unnamed: 22  \n",
       "0              NaN            NaN         NaN         NaN  \n",
       "1              NaN            NaN         NaN         NaN  \n",
       "2              NaN            NaN         NaN         NaN  \n",
       "3              NaN            NaN         NaN         NaN  \n",
       "4              NaN            NaN         NaN         NaN  \n",
       "...            ...            ...         ...         ...  \n",
       "7004       ND.0005            6.0         NaN         NaN  \n",
       "7005       ND.0004            5.0         NaN         NaN  \n",
       "7006       ND.0003            4.0         NaN         NaN  \n",
       "7007       ND.0002            3.0         NaN         NaN  \n",
       "7008       ND.0001            2.0         NaN         NaN  \n",
       "\n",
       "[7009 rows x 23 columns]"
      ]
     },
     "execution_count": 202,
     "metadata": {},
     "output_type": "execute_result"
    }
   ],
   "source": [
    "df"
   ]
  },
  {
   "cell_type": "code",
   "execution_count": 200,
   "id": "f1a982e5-4701-4a2f-bc65-cec371e88129",
   "metadata": {},
   "outputs": [
    {
     "data": {
      "text/html": [
       "<div>\n",
       "<style scoped>\n",
       "    .dataframe tbody tr th:only-of-type {\n",
       "        vertical-align: middle;\n",
       "    }\n",
       "\n",
       "    .dataframe tbody tr th {\n",
       "        vertical-align: top;\n",
       "    }\n",
       "\n",
       "    .dataframe thead th {\n",
       "        text-align: right;\n",
       "    }\n",
       "</style>\n",
       "<table border=\"1\" class=\"dataframe\">\n",
       "  <thead>\n",
       "    <tr style=\"text-align: right;\">\n",
       "      <th></th>\n",
       "      <th>date</th>\n",
       "      <th>year</th>\n",
       "      <th>type</th>\n",
       "      <th>country</th>\n",
       "      <th>activity</th>\n",
       "      <th>sex</th>\n",
       "      <th>age</th>\n",
       "      <th>fatal</th>\n",
       "    </tr>\n",
       "  </thead>\n",
       "  <tbody>\n",
       "    <tr>\n",
       "      <th>0</th>\n",
       "      <td>2025-03-26 00:00:00</td>\n",
       "      <td>2025.0</td>\n",
       "      <td>Unprovoked</td>\n",
       "      <td>Australia</td>\n",
       "      <td>Swimming</td>\n",
       "      <td>M</td>\n",
       "      <td>30</td>\n",
       "      <td>N</td>\n",
       "    </tr>\n",
       "    <tr>\n",
       "      <th>1</th>\n",
       "      <td>2025-03-10 00:00:00</td>\n",
       "      <td>2025.0</td>\n",
       "      <td>Unprovoked</td>\n",
       "      <td>Australia</td>\n",
       "      <td>Surfing</td>\n",
       "      <td>M</td>\n",
       "      <td>37</td>\n",
       "      <td>Y</td>\n",
       "    </tr>\n",
       "    <tr>\n",
       "      <th>2</th>\n",
       "      <td>2025-03-07 00:00:00</td>\n",
       "      <td>2025.0</td>\n",
       "      <td>Unprovoked</td>\n",
       "      <td>Australia</td>\n",
       "      <td>Swimming</td>\n",
       "      <td>F</td>\n",
       "      <td>56</td>\n",
       "      <td>N</td>\n",
       "    </tr>\n",
       "    <tr>\n",
       "      <th>3</th>\n",
       "      <td>2025-02-27 00:00:00</td>\n",
       "      <td>2025.0</td>\n",
       "      <td>Unprovoked</td>\n",
       "      <td>Australia</td>\n",
       "      <td>Swimming</td>\n",
       "      <td>M</td>\n",
       "      <td>40</td>\n",
       "      <td>N</td>\n",
       "    </tr>\n",
       "    <tr>\n",
       "      <th>4</th>\n",
       "      <td>27-Feb-25</td>\n",
       "      <td>2025.0</td>\n",
       "      <td>Questionable</td>\n",
       "      <td>Philippines</td>\n",
       "      <td>SCUBA Diving</td>\n",
       "      <td>M</td>\n",
       "      <td>29</td>\n",
       "      <td>Y</td>\n",
       "    </tr>\n",
       "    <tr>\n",
       "      <th>...</th>\n",
       "      <td>...</td>\n",
       "      <td>...</td>\n",
       "      <td>...</td>\n",
       "      <td>...</td>\n",
       "      <td>...</td>\n",
       "      <td>...</td>\n",
       "      <td>...</td>\n",
       "      <td>...</td>\n",
       "    </tr>\n",
       "    <tr>\n",
       "      <th>7004</th>\n",
       "      <td>Before 1903</td>\n",
       "      <td>0.0</td>\n",
       "      <td>Unprovoked</td>\n",
       "      <td>AUSTRALIA</td>\n",
       "      <td>Diving</td>\n",
       "      <td>M</td>\n",
       "      <td>NaN</td>\n",
       "      <td>Y</td>\n",
       "    </tr>\n",
       "    <tr>\n",
       "      <th>7005</th>\n",
       "      <td>Before 1903</td>\n",
       "      <td>0.0</td>\n",
       "      <td>Unprovoked</td>\n",
       "      <td>AUSTRALIA</td>\n",
       "      <td>Pearl diving</td>\n",
       "      <td>M</td>\n",
       "      <td>NaN</td>\n",
       "      <td>Y</td>\n",
       "    </tr>\n",
       "    <tr>\n",
       "      <th>7006</th>\n",
       "      <td>1900-1905</td>\n",
       "      <td>0.0</td>\n",
       "      <td>Unprovoked</td>\n",
       "      <td>USA</td>\n",
       "      <td>Swimming</td>\n",
       "      <td>M</td>\n",
       "      <td>NaN</td>\n",
       "      <td>Y</td>\n",
       "    </tr>\n",
       "    <tr>\n",
       "      <th>7007</th>\n",
       "      <td>1883-1889</td>\n",
       "      <td>0.0</td>\n",
       "      <td>Unprovoked</td>\n",
       "      <td>PANAMA</td>\n",
       "      <td>NaN</td>\n",
       "      <td>M</td>\n",
       "      <td>NaN</td>\n",
       "      <td>Y</td>\n",
       "    </tr>\n",
       "    <tr>\n",
       "      <th>7008</th>\n",
       "      <td>1845-1853</td>\n",
       "      <td>0.0</td>\n",
       "      <td>Unprovoked</td>\n",
       "      <td>CEYLON (SRI LANKA)</td>\n",
       "      <td>Swimming</td>\n",
       "      <td>M</td>\n",
       "      <td>15</td>\n",
       "      <td>Y</td>\n",
       "    </tr>\n",
       "  </tbody>\n",
       "</table>\n",
       "<p>6995 rows × 8 columns</p>\n",
       "</div>"
      ],
      "text/plain": [
       "                     date    year          type             country  \\\n",
       "0     2025-03-26 00:00:00  2025.0    Unprovoked           Australia   \n",
       "1     2025-03-10 00:00:00  2025.0    Unprovoked           Australia   \n",
       "2     2025-03-07 00:00:00  2025.0    Unprovoked           Australia   \n",
       "3     2025-02-27 00:00:00  2025.0    Unprovoked           Australia   \n",
       "4               27-Feb-25  2025.0  Questionable         Philippines   \n",
       "...                   ...     ...           ...                 ...   \n",
       "7004          Before 1903     0.0    Unprovoked           AUSTRALIA   \n",
       "7005          Before 1903     0.0    Unprovoked           AUSTRALIA   \n",
       "7006            1900-1905     0.0    Unprovoked                 USA   \n",
       "7007            1883-1889     0.0    Unprovoked              PANAMA   \n",
       "7008            1845-1853     0.0    Unprovoked  CEYLON (SRI LANKA)   \n",
       "\n",
       "          activity sex  age fatal  \n",
       "0         Swimming   M   30     N  \n",
       "1          Surfing   M   37     Y  \n",
       "2         Swimming   F   56     N  \n",
       "3         Swimming   M   40     N  \n",
       "4     SCUBA Diving   M   29     Y  \n",
       "...            ...  ..  ...   ...  \n",
       "7004        Diving   M  NaN     Y  \n",
       "7005  Pearl diving   M  NaN     Y  \n",
       "7006      Swimming   M  NaN     Y  \n",
       "7007           NaN   M  NaN     Y  \n",
       "7008      Swimming   M   15     Y  \n",
       "\n",
       "[6995 rows x 8 columns]"
      ]
     },
     "execution_count": 200,
     "metadata": {},
     "output_type": "execute_result"
    }
   ],
   "source": [
    "df_new"
   ]
  },
  {
   "cell_type": "code",
   "execution_count": 8,
   "id": "f4ea81b5-4e57-43aa-bb58-c06556618000",
   "metadata": {},
   "outputs": [
    {
     "data": {
      "text/plain": [
       "Age\n",
       "16             92\n",
       "19             90\n",
       "17             89\n",
       "18             85\n",
       "17             85\n",
       "               ..\n",
       "28, 23 & 30     1\n",
       "46 & 34         1\n",
       "12 or 13        1\n",
       "18 or 20        1\n",
       "13 or 14        1\n",
       "Name: count, Length: 249, dtype: int64"
      ]
     },
     "execution_count": 8,
     "metadata": {},
     "output_type": "execute_result"
    }
   ],
   "source": [
    "df.Age.value_counts()"
   ]
  },
  {
   "cell_type": "code",
   "execution_count": 10,
   "id": "9d432529-02da-4f6b-95a8-9f0665c7f764",
   "metadata": {},
   "outputs": [
    {
     "data": {
      "text/plain": [
       "Index(['Date', 'Year', 'Type', 'Country', 'State', 'Location', 'Activity',\n",
       "       'Name', 'Sex', 'Age', 'Injury', 'Fatal Y/N', 'Time', 'Species ',\n",
       "       'Source', 'pdf', 'href formula', 'href', 'Case Number', 'Case Number.1',\n",
       "       'original order', 'Unnamed: 21', 'Unnamed: 22'],\n",
       "      dtype='object')"
      ]
     },
     "execution_count": 10,
     "metadata": {},
     "output_type": "execute_result"
    }
   ],
   "source": [
    "df.columns"
   ]
  },
  {
   "cell_type": "code",
   "execution_count": 12,
   "id": "d5175299-4cde-4c17-a5d2-c1f9183ceaaa",
   "metadata": {},
   "outputs": [],
   "source": [
    "df_new = df[['Date', 'Year', 'Type', 'Country', 'Activity','Sex', 'Age', 'Fatal Y/N']]"
   ]
  },
  {
   "cell_type": "markdown",
   "id": "5a6476c9-64d4-447d-8191-187116aee040",
   "metadata": {},
   "source": [
    "- Date: We only need to get the info from the cells if the year is 0000, and transfer it to the Year columns.\n",
    "- Year: Add a year to the 0000 columns or empty columns, getting info from the date column.\n",
    "- Type: Reduce everything to Provoked/Unprovoked. There are other values like invalid, watercraft, sea disaster, etc.\n",
    "- Country: Pile caribbean countries into \"Caribbean\", and clean the rest of the countries to reflect only one name. Compare them with Australia.\n",
    "- Activity: Divide underwater (diving, scuba diving, free diving, snorkelling) with the rest of activities (swimming, fishing, surfing, etc.).\n",
    "- Sex: Clean it to reflect only M/F\n",
    "- Age: Create two groups (1. over or equal to 25 and 2. under 25)\n",
    "- Fatal: Clean it to reflect Y/N."
   ]
  },
  {
   "cell_type": "code",
   "execution_count": 143,
   "id": "817d327d-d661-4543-841f-14eff2b2d4d2",
   "metadata": {},
   "outputs": [
    {
     "data": {
      "text/html": [
       "<div>\n",
       "<style scoped>\n",
       "    .dataframe tbody tr th:only-of-type {\n",
       "        vertical-align: middle;\n",
       "    }\n",
       "\n",
       "    .dataframe tbody tr th {\n",
       "        vertical-align: top;\n",
       "    }\n",
       "\n",
       "    .dataframe thead th {\n",
       "        text-align: right;\n",
       "    }\n",
       "</style>\n",
       "<table border=\"1\" class=\"dataframe\">\n",
       "  <thead>\n",
       "    <tr style=\"text-align: right;\">\n",
       "      <th></th>\n",
       "      <th>date</th>\n",
       "      <th>year</th>\n",
       "      <th>type</th>\n",
       "      <th>country</th>\n",
       "      <th>activity</th>\n",
       "      <th>sex</th>\n",
       "      <th>age</th>\n",
       "      <th>fatal</th>\n",
       "    </tr>\n",
       "  </thead>\n",
       "  <tbody>\n",
       "    <tr>\n",
       "      <th>0</th>\n",
       "      <td>2025-03-26 00:00:00</td>\n",
       "      <td>2025.0</td>\n",
       "      <td>Unprovoked</td>\n",
       "      <td>Australia</td>\n",
       "      <td>Swimming</td>\n",
       "      <td>M</td>\n",
       "      <td>30+</td>\n",
       "      <td>N</td>\n",
       "    </tr>\n",
       "    <tr>\n",
       "      <th>1</th>\n",
       "      <td>2025-03-10 00:00:00</td>\n",
       "      <td>2025.0</td>\n",
       "      <td>Unprovoked</td>\n",
       "      <td>Australia</td>\n",
       "      <td>Surfing</td>\n",
       "      <td>M</td>\n",
       "      <td>37</td>\n",
       "      <td>Y</td>\n",
       "    </tr>\n",
       "    <tr>\n",
       "      <th>2</th>\n",
       "      <td>2025-03-07 00:00:00</td>\n",
       "      <td>2025.0</td>\n",
       "      <td>Unprovoked</td>\n",
       "      <td>Australia</td>\n",
       "      <td>Swimming</td>\n",
       "      <td>F</td>\n",
       "      <td>56</td>\n",
       "      <td>N</td>\n",
       "    </tr>\n",
       "    <tr>\n",
       "      <th>3</th>\n",
       "      <td>2025-02-27 00:00:00</td>\n",
       "      <td>2025.0</td>\n",
       "      <td>Unprovoked</td>\n",
       "      <td>Australia</td>\n",
       "      <td>Swimming</td>\n",
       "      <td>M</td>\n",
       "      <td>40+</td>\n",
       "      <td>N</td>\n",
       "    </tr>\n",
       "    <tr>\n",
       "      <th>4</th>\n",
       "      <td>27-Feb-25</td>\n",
       "      <td>2025.0</td>\n",
       "      <td>Questionable</td>\n",
       "      <td>Philippines</td>\n",
       "      <td>SCUBA Diving</td>\n",
       "      <td>M</td>\n",
       "      <td>29</td>\n",
       "      <td>Y</td>\n",
       "    </tr>\n",
       "    <tr>\n",
       "      <th>...</th>\n",
       "      <td>...</td>\n",
       "      <td>...</td>\n",
       "      <td>...</td>\n",
       "      <td>...</td>\n",
       "      <td>...</td>\n",
       "      <td>...</td>\n",
       "      <td>...</td>\n",
       "      <td>...</td>\n",
       "    </tr>\n",
       "    <tr>\n",
       "      <th>7004</th>\n",
       "      <td>Before 1903</td>\n",
       "      <td>0.0</td>\n",
       "      <td>Unprovoked</td>\n",
       "      <td>AUSTRALIA</td>\n",
       "      <td>Diving</td>\n",
       "      <td>M</td>\n",
       "      <td>NaN</td>\n",
       "      <td>Y</td>\n",
       "    </tr>\n",
       "    <tr>\n",
       "      <th>7005</th>\n",
       "      <td>Before 1903</td>\n",
       "      <td>0.0</td>\n",
       "      <td>Unprovoked</td>\n",
       "      <td>AUSTRALIA</td>\n",
       "      <td>Pearl diving</td>\n",
       "      <td>M</td>\n",
       "      <td>NaN</td>\n",
       "      <td>Y</td>\n",
       "    </tr>\n",
       "    <tr>\n",
       "      <th>7006</th>\n",
       "      <td>1900-1905</td>\n",
       "      <td>0.0</td>\n",
       "      <td>Unprovoked</td>\n",
       "      <td>USA</td>\n",
       "      <td>Swimming</td>\n",
       "      <td>M</td>\n",
       "      <td>NaN</td>\n",
       "      <td>Y</td>\n",
       "    </tr>\n",
       "    <tr>\n",
       "      <th>7007</th>\n",
       "      <td>1883-1889</td>\n",
       "      <td>0.0</td>\n",
       "      <td>Unprovoked</td>\n",
       "      <td>PANAMA</td>\n",
       "      <td>NaN</td>\n",
       "      <td>M</td>\n",
       "      <td>NaN</td>\n",
       "      <td>Y</td>\n",
       "    </tr>\n",
       "    <tr>\n",
       "      <th>7008</th>\n",
       "      <td>1845-1853</td>\n",
       "      <td>0.0</td>\n",
       "      <td>Unprovoked</td>\n",
       "      <td>CEYLON (SRI LANKA)</td>\n",
       "      <td>Swimming</td>\n",
       "      <td>M</td>\n",
       "      <td>15</td>\n",
       "      <td>Y</td>\n",
       "    </tr>\n",
       "  </tbody>\n",
       "</table>\n",
       "<p>6995 rows × 8 columns</p>\n",
       "</div>"
      ],
      "text/plain": [
       "                     date    year          type             country  \\\n",
       "0     2025-03-26 00:00:00  2025.0    Unprovoked           Australia   \n",
       "1     2025-03-10 00:00:00  2025.0    Unprovoked           Australia   \n",
       "2     2025-03-07 00:00:00  2025.0    Unprovoked           Australia   \n",
       "3     2025-02-27 00:00:00  2025.0    Unprovoked           Australia   \n",
       "4               27-Feb-25  2025.0  Questionable         Philippines   \n",
       "...                   ...     ...           ...                 ...   \n",
       "7004          Before 1903     0.0    Unprovoked           AUSTRALIA   \n",
       "7005          Before 1903     0.0    Unprovoked           AUSTRALIA   \n",
       "7006            1900-1905     0.0    Unprovoked                 USA   \n",
       "7007            1883-1889     0.0    Unprovoked              PANAMA   \n",
       "7008            1845-1853     0.0    Unprovoked  CEYLON (SRI LANKA)   \n",
       "\n",
       "          activity sex  age fatal  \n",
       "0         Swimming   M  30+     N  \n",
       "1          Surfing   M   37     Y  \n",
       "2         Swimming   F   56     N  \n",
       "3         Swimming   M  40+     N  \n",
       "4     SCUBA Diving   M   29     Y  \n",
       "...            ...  ..  ...   ...  \n",
       "7004        Diving   M  NaN     Y  \n",
       "7005  Pearl diving   M  NaN     Y  \n",
       "7006      Swimming   M  NaN     Y  \n",
       "7007           NaN   M  NaN     Y  \n",
       "7008      Swimming   M   15     Y  \n",
       "\n",
       "[6995 rows x 8 columns]"
      ]
     },
     "execution_count": 143,
     "metadata": {},
     "output_type": "execute_result"
    }
   ],
   "source": [
    "df_new"
   ]
  },
  {
   "cell_type": "markdown",
   "id": "78dd3bbd-c2c9-44d0-a6ba-e35629b9b897",
   "metadata": {},
   "source": [
    "## 1. Put all columns with lowercase"
   ]
  },
  {
   "cell_type": "code",
   "execution_count": 16,
   "id": "727444fb-4544-495b-8549-61e587b1929e",
   "metadata": {},
   "outputs": [],
   "source": [
    "df_new.columns = ['date', 'year', 'type', 'country', 'activity', 'sex', 'age',\n",
    "       'fatal']"
   ]
  },
  {
   "cell_type": "markdown",
   "id": "fb5532bd-eeca-49fe-b187-566366fa5d8a",
   "metadata": {},
   "source": [
    "## 2. Eliminate rows with all values missing."
   ]
  },
  {
   "cell_type": "code",
   "execution_count": 21,
   "id": "a9f1f16d-401d-4754-9239-34a6a95ff462",
   "metadata": {},
   "outputs": [],
   "source": [
    "df_new = df_new.dropna(how='all')"
   ]
  },
  {
   "cell_type": "markdown",
   "id": "901524d0-7bd1-4f4b-b1a2-f757243a4642",
   "metadata": {},
   "source": [
    "## 3. Checking if there are any null values in columns"
   ]
  },
  {
   "cell_type": "code",
   "execution_count": 30,
   "id": "01302d0c-6d9c-40c5-8ca4-2b467141f345",
   "metadata": {},
   "outputs": [
    {
     "data": {
      "text/plain": [
       "date        False\n",
       "year         True\n",
       "type         True\n",
       "country      True\n",
       "activity     True\n",
       "sex          True\n",
       "age          True\n",
       "fatal        True\n",
       "dtype: bool"
      ]
     },
     "execution_count": 30,
     "metadata": {},
     "output_type": "execute_result"
    }
   ],
   "source": [
    "df_new.isna().any()\n",
    "\n",
    "# We understand from here that we need to work in all the columns, including the standardization of date."
   ]
  },
  {
   "cell_type": "markdown",
   "id": "d3a4a88f-4007-4125-85f4-eaf915f955a2",
   "metadata": {},
   "source": [
    "## 4. Checking number of unique values for each variable"
   ]
  },
  {
   "cell_type": "code",
   "execution_count": 233,
   "id": "9740f887-32f3-43a5-b653-f48cb16ddc2d",
   "metadata": {},
   "outputs": [
    {
     "data": {
      "text/plain": [
       "date        6045\n",
       "year         261\n",
       "type           6\n",
       "country      242\n",
       "activity    1598\n",
       "sex            2\n",
       "age          223\n",
       "fatal          3\n",
       "dtype: int64"
      ]
     },
     "execution_count": 233,
     "metadata": {},
     "output_type": "execute_result"
    }
   ],
   "source": [
    "df_new.nunique()"
   ]
  },
  {
   "cell_type": "code",
   "execution_count": 238,
   "id": "ee1b11c2-d1a0-4ee8-8d15-014cf4ab4c52",
   "metadata": {},
   "outputs": [
    {
     "data": {
      "text/plain": [
       "date           0\n",
       "year           2\n",
       "type          18\n",
       "country       50\n",
       "activity     584\n",
       "sex          571\n",
       "age         2984\n",
       "fatal        560\n",
       "dtype: int64"
      ]
     },
     "execution_count": 238,
     "metadata": {},
     "output_type": "execute_result"
    }
   ],
   "source": [
    "df_new.isnull().sum()"
   ]
  },
  {
   "cell_type": "markdown",
   "id": "ecc76630-ed69-4693-a164-37d566a8c04d",
   "metadata": {},
   "source": [
    "## 5. I will start replacing invalid values in variables"
   ]
  },
  {
   "cell_type": "markdown",
   "id": "0b0a1844-760a-4dfe-ba35-c4d308740e18",
   "metadata": {},
   "source": [
    "#### 5.1 \"sex\" variable"
   ]
  },
  {
   "cell_type": "code",
   "execution_count": 217,
   "id": "a6bff745-2aa6-43d3-a999-c2ec09fce86b",
   "metadata": {},
   "outputs": [
    {
     "data": {
      "text/plain": [
       "array(['M', 'F ', 'F', 'M ', nan, ' M', 'lli', 'M x 2', 'N', '.'],\n",
       "      dtype=object)"
      ]
     },
     "execution_count": 217,
     "metadata": {},
     "output_type": "execute_result"
    }
   ],
   "source": [
    "df[\"Sex\"].unique()"
   ]
  },
  {
   "cell_type": "code",
   "execution_count": 223,
   "id": "72283765-5a04-4614-9079-474cc0360b68",
   "metadata": {},
   "outputs": [
    {
     "data": {
      "text/plain": [
       "sex\n",
       "M    5626\n",
       "F     798\n",
       "Name: count, dtype: int64"
      ]
     },
     "execution_count": 223,
     "metadata": {},
     "output_type": "execute_result"
    }
   ],
   "source": [
    "df_new[\"sex\"].value_counts()"
   ]
  },
  {
   "cell_type": "code",
   "execution_count": 139,
   "id": "30518917-b6ed-4c19-b015-1192a4d85311",
   "metadata": {},
   "outputs": [],
   "source": [
    "# Here I replaced the invalid values for usable values\n",
    "\n",
    "sex_cleaning = {'F ':'F', 'M ':'M', ' M':'M', 'M x 2':'M', 'N':'M'}\n",
    "df_new[\"sex\"] = df_new[\"sex\"].replace(sex_cleaning)"
   ]
  },
  {
   "cell_type": "code",
   "execution_count": 77,
   "id": "69ffd789-6cf5-463f-b465-7edb8f01a359",
   "metadata": {},
   "outputs": [],
   "source": [
    "# Here I removed the last unique values that weren't \"F\" or \"M\". \n",
    "# \"sex\" column has now only \"F\" or \"M\" but has still 579 null values. Will check them later to see if we want to keep them or not.\n",
    "\n",
    "df_new = df_new[(df_new['sex'] != \"lli\") & (df_new['sex'] != \".\")] # | means OR and & meand AND when filtering"
   ]
  },
  {
   "cell_type": "markdown",
   "id": "02f17613-4115-4880-b8e5-6bcf98343218",
   "metadata": {},
   "source": [
    "#### 5.2 \"fatal\" variable"
   ]
  },
  {
   "cell_type": "code",
   "execution_count": 162,
   "id": "a58e8348-1b94-45bd-8a67-2b993cd935ac",
   "metadata": {},
   "outputs": [
    {
     "data": {
      "text/plain": [
       "array(['N', 'Y', nan, 'UNKNOWN'], dtype=object)"
      ]
     },
     "execution_count": 162,
     "metadata": {},
     "output_type": "execute_result"
    }
   ],
   "source": [
    "df_new[\"fatal\"].unique()"
   ]
  },
  {
   "cell_type": "code",
   "execution_count": 244,
   "id": "04c449bd-77fe-4e7f-8d2c-902d51072f57",
   "metadata": {},
   "outputs": [
    {
     "data": {
      "text/plain": [
       "fatal\n",
       "N          4882\n",
       "Y          1482\n",
       "UNKNOWN      71\n",
       "Name: count, dtype: int64"
      ]
     },
     "execution_count": 244,
     "metadata": {},
     "output_type": "execute_result"
    }
   ],
   "source": [
    "df_new[\"fatal\"].value_counts()"
   ]
  },
  {
   "cell_type": "code",
   "execution_count": 91,
   "id": "f26c078b-138c-4d49-b5a4-cc3025c82bdc",
   "metadata": {},
   "outputs": [],
   "source": [
    "# Here I replaced the invalid values for usable values\n",
    "fatal_cleaning = {'F':'Y', 'M':'N', 'n':\"N\", 'Nq':\"N\",'Y x 2':'Y', ' N':'N','N ':'N', 'y':'Y'}\n",
    "df_new[\"fatal\"] = df_new[\"fatal\"].replace(fatal_cleaning)"
   ]
  },
  {
   "cell_type": "code",
   "execution_count": 127,
   "id": "168c7d80-bf4e-41c8-b1f3-553f21e163e1",
   "metadata": {},
   "outputs": [],
   "source": [
    "# Here I removed the last unique values that weren't \"Y\" or \"N\" or \"UNKNOWN\".\n",
    "# \"fatal\" column has now only \"Y\", \"N\" or \"UNKNOWN\" but it has still null values. \n",
    "# Will check them later to see if we want to keep them or not.\n",
    "\n",
    "df_new = df_new[(df_new['fatal'] != 2017)]"
   ]
  },
  {
   "cell_type": "markdown",
   "id": "6dadfc30-c3af-4927-8626-0cdec1f35ef2",
   "metadata": {},
   "source": [
    "#### 5.3 \"type\" variable"
   ]
  },
  {
   "cell_type": "code",
   "execution_count": 169,
   "id": "0b13e946-5eb2-4859-9070-a3fb83ef471f",
   "metadata": {},
   "outputs": [
    {
     "name": "stdout",
     "output_type": "stream",
     "text": [
      "['Unprovoked' 'Questionable' 'Provoked' 'Watercraft' 'Sea Disaster' nan\n",
      " 'Invalid']\n",
      "type\n",
      "Unprovoked      5166\n",
      "Provoked         638\n",
      "Invalid          552\n",
      "Watercraft       355\n",
      "Sea Disaster     241\n",
      "Questionable      25\n",
      "Name: count, dtype: int64\n"
     ]
    }
   ],
   "source": [
    "print(df_new[\"type\"].unique())\n",
    "print(df_new[\"type\"].value_counts())"
   ]
  },
  {
   "cell_type": "code",
   "execution_count": 129,
   "id": "5809f548-31df-4321-bd7a-39f0649d6535",
   "metadata": {},
   "outputs": [],
   "source": [
    "# Here I replaced the invalid values for usable values. However there are values that are not correlated to the question. \n",
    "# I will leave them for further analysis later.\n",
    "\n",
    "type_cleaning = {' Provoked':'Provoked'}\n",
    "df_new[\"type\"] = df_new[\"type\"].replace(type_cleaning)"
   ]
  },
  {
   "cell_type": "code",
   "execution_count": 135,
   "id": "0bbf8c56-3339-4011-b3e9-91802504123b",
   "metadata": {},
   "outputs": [],
   "source": [
    "# Here I excluded the variables with less than 7 observations, as these are marginal values and non-representative in the sample size.\n",
    "\n",
    "df_new = df_new[(df_new['type'] != \"Boat\") & (df_new['type'] != \"?\") & (df_new['type'] != \"Unconfirmed\") \n",
    "& (df_new['type'] != \"Unverified\") & (df_new['type'] != \"Under investigation\")]"
   ]
  },
  {
   "cell_type": "code",
   "execution_count": 137,
   "id": "f9be319b-df95-471f-b554-3276f95b6b40",
   "metadata": {},
   "outputs": [],
   "source": [
    "# \"type\" column has now only \"Provoked\", \"Unprovoked\", \"Invalid\", \"Watercraft\", \"Sea disaster\" & \"Questionable\" and null values. \n",
    "# Will check them later to see what to do with the non relevant categories and null values."
   ]
  },
  {
   "cell_type": "markdown",
   "id": "ff3c4b2e-fa22-4383-abdd-a2dc1ca0f95f",
   "metadata": {},
   "source": [
    "#### 5.4 \"age\" variable"
   ]
  },
  {
   "cell_type": "code",
   "execution_count": 177,
   "id": "91fa29b5-02aa-496d-8033-7059671750de",
   "metadata": {},
   "outputs": [
    {
     "name": "stdout",
     "output_type": "stream",
     "text": [
      "[30 '37' '56' 40 '29' 35 58 29 24 20 55 17 12 37 36 23 28 '?' 69 48 60 57\n",
      " 45 61 27 38 16 68 33 15 41 14 26 18 21 49 25 46 19 65 64 '13' nan '11'\n",
      " '46' '32' '10' '64' '62' '39' '22' '15' '16' '21' '66' '52' '20' '44'\n",
      " '26' '47' '55' '30' '59' '8' '50' '45' '34' '38' '9' '19' '20/30' '35'\n",
      " '65' '77' '60' '49' '42' '!2' '24' '73' '25' '18' '58' '67' '17' '14' '6'\n",
      " '41' '53' '68' '43' '40' '51' '31' 39 51 10 13 62 8 22 32 56 42 50 'M' 9\n",
      " 11 34 '!6' 31 '!!' 47 7 71 59 53 54 75 '45 and 15' 73 52 70 4 63 44\n",
      " '28 & 22' '22, 57, 31' \"20's\" 43 67 74 '9 & 60' 6 3 82 '40?' 66 72 '23'\n",
      " '12' '36' '63' '71' '48' '70' 1 '57' '7' '28' '33' '61' '74' '27' '3'\n",
      " '28 & 26' '5' '54' '86' '18 or 20' '12 or 13' '46 & 34' '28, 23 & 30' 77\n",
      " '36 & 26' '8 or 10' 84 '\\xa0 ' ' ' '30 or 36' '21 & ?' '33 or 37'\n",
      " '23 & 20' 5 ' 30' '7      &    31' ' 28' '20?' \"60's\" '69' '32 & 30'\n",
      " '16 to 18' '87' 'Elderly' '74 ' '45 ' '21 or 26' '20 ' '18 to 22'\n",
      " '9 & 12' '? & 19' '25 to 35' '23 & 26' '33 & 37' '25 or 28'\n",
      " '37, 67, 35, 27,  ? & 27' '21, 34,24 & 35' '30 & 32' '50 & 30' '17 & 35'\n",
      " 'X' '13 or 18' '34 & 19' '33 & 26' '4' 'MAKE LINE GREEN' ' 43' '81'\n",
      " '7 or 8' 78 '17 & 16' 'F' 'Both 11' '9 or 10' '36 & 23' '  ' '78' 'A.M.'\n",
      " '?    &   14' '10 or 12' '31 or 33' 2 '1' '13 or 14']\n",
      "age\n",
      "15             92\n",
      "16             92\n",
      "19             90\n",
      "17             89\n",
      "18             88\n",
      "               ..\n",
      "36 & 26         1\n",
      "77              1\n",
      "28, 23 & 30     1\n",
      "46 & 34         1\n",
      "13 or 14        1\n",
      "Name: count, Length: 223, dtype: int64\n"
     ]
    }
   ],
   "source": [
    "print(df_new[\"age\"].unique())\n",
    "print(df_new[\"age\"].value_counts())"
   ]
  },
  {
   "cell_type": "code",
   "execution_count": 173,
   "id": "03f23b1c-403b-43ea-83c9-79607c86267e",
   "metadata": {},
   "outputs": [],
   "source": [
    "# Here I replaced the invalid values for usable values\n",
    "age_cleaning = {\n",
    "    \"30+\": 30,\n",
    "    \"40+\": 40,\n",
    "    \"60+\": 60,\n",
    "    \"middle age\": 45,\n",
    "    \"Middle age\": 45,\n",
    "    '\"middle-age\"': 45,\n",
    "    \"mid-30s\": 35,\n",
    "    \"mid-20s\": 25,\n",
    "    \"20s\": 25,\n",
    "    \"30s\": 35,\n",
    "    \"40s\": 45,\n",
    "    \"50s\": 55,\n",
    "    \"60s\": 65,\n",
    "    \"Teen\": 15,\n",
    "    \"teen\": 15,\n",
    "    \"Teens\": 15,\n",
    "    \"young\": 18,\n",
    "    '\"young\"': 18,\n",
    "    \"adult\": 30,\n",
    "    \"(adult)\": 30,\n",
    "    \"a minor\": 15,\n",
    "    \"9 months\": 1,\n",
    "    \"18 months\": 1,\n",
    "    \"2 to 3 months\": 1,\n",
    "    \"6½\": 6,\n",
    "    \"2½\": 2,\n",
    "    \">50\": 51,\n",
    "    \"Ca. 33\": 33}\n",
    "\n",
    "df_new[\"age\"] = df_new[\"age\"].replace(age_cleaning)"
   ]
  },
  {
   "cell_type": "markdown",
   "id": "72b5624f-8e4e-49e0-8854-29bee2fa1664",
   "metadata": {},
   "source": [
    "#### 5.5 \"country\" variable"
   ]
  },
  {
   "cell_type": "code",
   "execution_count": null,
   "id": "2b0571d3-8072-4964-ab8a-0cea44de9aea",
   "metadata": {},
   "outputs": [],
   "source": []
  },
  {
   "cell_type": "markdown",
   "id": "0ad23b83-2eac-427a-b61a-fd463b688cd5",
   "metadata": {},
   "source": [
    "#### 5.6 \"activity\" variable"
   ]
  },
  {
   "cell_type": "code",
   "execution_count": null,
   "id": "45052df1-eef1-44d8-b22f-7681e7c6884b",
   "metadata": {},
   "outputs": [],
   "source": []
  },
  {
   "cell_type": "markdown",
   "id": "4ed42c9b-456c-463d-ad1b-595eb2012641",
   "metadata": {},
   "source": [
    "#### 5.6 \"year\" and \"date\" variables"
   ]
  },
  {
   "cell_type": "code",
   "execution_count": null,
   "id": "49c84bd0-b847-4bc9-9606-ad92f270328d",
   "metadata": {},
   "outputs": [],
   "source": []
  },
  {
   "cell_type": "markdown",
   "id": "b7087aa3-62cb-4376-8c4a-e0cfd570a50e",
   "metadata": {},
   "source": [
    "# Year: remove 2 null values and then remove date, because we only need year variable.\n",
    "- Use year and deprecate date.\n",
    "# Activities: Either surf/non-surf or underwater/above water. Can we cluster them in two?\n",
    "- Later on, during the maping. First just map it into surfing, snorkelling, and then cluster them related to the hypothesis. \n",
    "# Country: Cluster them in continents? Or erhaps doing Australia/non-australia just to prove the hypothesis?\n",
    "- Use ChatGPT to uppercase and lowercase, and then work with countries.\n",
    "# Age: ideas to do it? Int \n",
    "# Fatal: Y/N and unknown. What happens with that category?\n",
    "# Null values: what to donwith them? What number is acceptable to remove?\n",
    "\n",
    "# Next steps\n",
    "\n",
    "---------------------\n",
    "# Sex: just drop the gender unknown, in order to avoid false assumptions. \n",
    "# less than 10% to remove is ok in total"
   ]
  },
  {
   "cell_type": "code",
   "execution_count": null,
   "id": "34539d6d-5c7f-44d0-a634-6608436a5d45",
   "metadata": {},
   "outputs": [],
   "source": [
    "# Activities\n",
    "\n",
    "if name has surf then consider, return \"surf\"\n"
   ]
  }
 ],
 "metadata": {
  "kernelspec": {
   "display_name": "Python [conda env:base] *",
   "language": "python",
   "name": "conda-base-py"
  },
  "language_info": {
   "codemirror_mode": {
    "name": "ipython",
    "version": 3
   },
   "file_extension": ".py",
   "mimetype": "text/x-python",
   "name": "python",
   "nbconvert_exporter": "python",
   "pygments_lexer": "ipython3",
   "version": "3.12.7"
  }
 },
 "nbformat": 4,
 "nbformat_minor": 5
}
